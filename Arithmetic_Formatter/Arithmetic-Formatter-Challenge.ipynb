{
 "cells": [
  {
   "cell_type": "markdown",
   "id": "abbab7dc",
   "metadata": {},
   "source": [
    "# Problem 1 Certification"
   ]
  },
  {
   "cell_type": "code",
   "execution_count": 23,
   "id": "eef87f5c",
   "metadata": {
    "scrolled": false
   },
   "outputs": [
    {
     "name": "stdout",
     "output_type": "stream",
     "text": [
      "[6, 6, 4, 5, 3]\n",
      "    32      3801      45      123      5\n",
      "- 6985    -    2    + 43    +  49    - 6\n",
      "------    ------    ----    -----    ---\n",
      " -6953      3799      88      172     -1\n"
     ]
    }
   ],
   "source": [
    "print(arithmetic_arranger([\"32 - 6985\", \"3801 - 2\", \"45 + 43\", \"123 + 49\",\"5 - 6\"],True))"
   ]
  },
  {
   "cell_type": "code",
   "execution_count": 25,
   "id": "6dd82092",
   "metadata": {
    "scrolled": false
   },
   "outputs": [
    {
     "name": "stdout",
     "output_type": "stream",
     "text": [
      "[5]\n",
      "  123\n",
      "+  49\n",
      "-----\n",
      "  172\n"
     ]
    }
   ],
   "source": [
    "print(arithmetic_arranger(['123 + 49'],True))"
   ]
  },
  {
   "cell_type": "markdown",
   "id": "0064b816",
   "metadata": {},
   "source": [
    "# Solution 1"
   ]
  },
  {
   "cell_type": "code",
   "execution_count": 13,
   "id": "45f8a515",
   "metadata": {},
   "outputs": [],
   "source": [
    "import operator\n",
    "def arithmetic_arranger(problems,solution=False):\n",
    "    spaces = []\n",
    "    if (len(problems) > 5):\n",
    "        return \"Error: Too many problems.\"\n",
    "    problems_div = [x.split() for x in problems]\n",
    "    for prob in problems_div:\n",
    "        if(prob[1] != '+' and prob[1] != '-' ):\n",
    "            return \"Error: Operator must be '+' or '-'.\"\n",
    "        \n",
    "        if(prob[0].isdigit() == False or prob[2].isdigit() == False):\n",
    "            return \"Error: Numbers must only contain digits.\"\n",
    "        \n",
    "        if (len(prob[0]) > 4 or len(prob[2]) > 4 ):\n",
    "            return \"Error: Numbers cannot be more than four digits.\"\n",
    "        \n",
    "        if(prob[0] > prob[2]):\n",
    "            print(len(prob[0]))\n",
    "            spaces.append(len(prob[0])+2)\n",
    "        else:\n",
    "            spaces.append(len(prob[2])+2)\n",
    "    print(spaces)\n",
    "    \n",
    "    op = {'+': lambda x, y: x + y,\n",
    "      '-': lambda x, y: x - y}\n",
    "    \n",
    "    space = \" \"\n",
    "    first_line = [x[0] for x in problems_div]\n",
    "    second_line = [x[2] for x in problems_div]\n",
    "    sings = [x[1] for x in problems_div]\n",
    "    sums_f = [op[x[1]](int(x[0]),int(x[2])) for x in problems_div]\n",
    "    \n",
    "    for i in range(len(problems)):\n",
    "        if i==0:\n",
    "            print(space,end=\"\")\n",
    "        blanks = spaces[i]-len(first_line[i])\n",
    "        print(space*blanks,end=\"\")\n",
    "        print(first_line[i],end=\"\")\n",
    "        if (i == 4):\n",
    "            break\n",
    "        print(space*4,end=\"\")\n",
    "    print(\"\")\n",
    "        \n",
    "    for i in range(len(problems)):\n",
    "        if i==0:\n",
    "            print(space,end=\"\")\n",
    "        blanks = spaces[i]-len(second_line[i])-1\n",
    "        print(sings[i],end=\"\")\n",
    "        print(space*blanks,end=\"\")\n",
    "        print(second_line[i],end=\"\")\n",
    "        if (i == 4):\n",
    "            break\n",
    "        print(space*4,end=\"\")\n",
    "    print(\"\")\n",
    "        \n",
    "    for i in range(len(problems)):\n",
    "        if i==0:\n",
    "            print(space,end=\"\")\n",
    "        print(\"_\"*spaces[i],end=\"\")\n",
    "        if (i == len(problems)):\n",
    "            break\n",
    "        print(space*4,end=\"\")\n",
    "    print(\"\")\n",
    "        \n",
    "        \n",
    "    if(solution):\n",
    "        for i in range(len(problems)):\n",
    "            if i==0:\n",
    "                print(space,end=\"\")\n",
    "            blanks = spaces[i]-len(str(sums_f[i]))\n",
    "            print(space*blanks,end=\"\")\n",
    "            print(f\"{sums_f[i]}\",end=\"\")\n",
    "            if (i == 4):\n",
    "                break\n",
    "            print(space*4,end=\"\")\n",
    "        \n",
    "    return \"\""
   ]
  },
  {
   "cell_type": "markdown",
   "id": "5a597260",
   "metadata": {},
   "source": [
    "## Solution 2"
   ]
  },
  {
   "cell_type": "code",
   "execution_count": 29,
   "id": "15dfd438",
   "metadata": {
    "scrolled": false
   },
   "outputs": [
    {
     "name": "stdout",
     "output_type": "stream",
     "text": [
      "[5]\n",
      "  123\n",
      "+  49\n",
      "-----\n",
      "  172\n"
     ]
    }
   ],
   "source": [
    "print(arithmetic_arranger(['123 + 49'],True))"
   ]
  },
  {
   "cell_type": "code",
   "execution_count": 26,
   "id": "623451b6",
   "metadata": {},
   "outputs": [],
   "source": [
    "import operator\n",
    "def arithmetic_arranger(problems,solution=False):\n",
    "    spaces = []\n",
    "    if (len(problems) > 5):\n",
    "        return \"Error: Too many problems.\"\n",
    "    problems_div = [x.split() for x in problems]\n",
    "    for prob in problems_div:\n",
    "        \n",
    "        if(prob[1] != '+' and prob[1] != '-' ):\n",
    "            return \"Error: Operator must be '+' or '-'.\"\n",
    "        \n",
    "        if(prob[0].isdigit() == False or prob[2].isdigit() == False):\n",
    "            return \"Error: Numbers must only contain digits.\"\n",
    "        \n",
    "        if (len(prob[0]) > 4 or len(prob[2]) > 4 ):\n",
    "            return \"Error: Numbers cannot be more than four digits.\"\n",
    "        \n",
    "        if(len(prob[0]) > len(prob[2])):\n",
    "            \n",
    "            spaces.append(len(prob[0])+2)\n",
    "        else:\n",
    "            spaces.append(len(prob[2])+2)\n",
    "   \n",
    "    \n",
    "    op = {'+': lambda x, y: x + y,\n",
    "      '-': lambda x, y: x - y}\n",
    "    \n",
    "    \n",
    "    first_line = [x[0] for x in problems_div]\n",
    "    second_line = [x[2] for x in problems_div]\n",
    "    sings = [x[1] for x in problems_div]\n",
    "    sums_f = [op[x[1]](int(x[0]),int(x[2])) for x in problems_div]\n",
    "    \n",
    "    top_row = ''\n",
    "    middle_row = ''\n",
    "    dashes_row = ''\n",
    "    solutions = ''\n",
    "    \n",
    "    \n",
    "    for i in range(len(problems)):    \n",
    "        blanks = spaces[i]-len(first_line[i])\n",
    "        top_row += \" \"*blanks\n",
    "        top_row += first_line[i]\n",
    "        if (i == len(problems)-1):\n",
    "            top_row +=\"\\n\"\n",
    "            break\n",
    "        top_row += \" \"*4\n",
    "        \n",
    "    for i in range(len(problems)):\n",
    "        \n",
    "        blanks = spaces[i]-len(second_line[i])-1\n",
    "        middle_row += sings[i]\n",
    "        middle_row += \" \"*blanks\n",
    "        middle_row += second_line[i]\n",
    "        if (i == len(problems)-1):\n",
    "            middle_row +=\"\\n\"\n",
    "            break\n",
    "        middle_row += \" \"*4\n",
    "        \n",
    "    for i in range(len(problems)):\n",
    "        dashes_row += \"-\"*spaces[i]\n",
    "        if (i == len(problems)-1 and solution==True):\n",
    "            dashes_row +=\"\\n\"\n",
    "            break\n",
    "        elif (i == len(problems)-1):\n",
    "            break\n",
    "        dashes_row += \" \"*4\n",
    "        \n",
    "    if(solution):\n",
    "        for i in range(len(problems)):\n",
    "            \n",
    "            blanks = spaces[i]-len(str(sums_f[i]))\n",
    "            solutions += \" \"*blanks\n",
    "            solutions += str(sums_f[i])\n",
    "            if (i == len(problems)-1):\n",
    "                break\n",
    "            solutions += \" \"*4\n",
    "            \n",
    "        return \"\".join((top_row,middle_row,dashes_row,solutions))\n",
    "    \n",
    "    return \"\".join((top_row,middle_row,dashes_row))"
   ]
  }
 ],
 "metadata": {
  "kernelspec": {
   "display_name": "Python 3 (ipykernel)",
   "language": "python",
   "name": "python3"
  },
  "language_info": {
   "codemirror_mode": {
    "name": "ipython",
    "version": 3
   },
   "file_extension": ".py",
   "mimetype": "text/x-python",
   "name": "python",
   "nbconvert_exporter": "python",
   "pygments_lexer": "ipython3",
   "version": "3.9.1"
  }
 },
 "nbformat": 4,
 "nbformat_minor": 5
}
