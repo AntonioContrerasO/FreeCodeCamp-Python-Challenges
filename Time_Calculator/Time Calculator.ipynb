{
 "cells": [
  {
   "cell_type": "markdown",
   "id": "8ee328f7",
   "metadata": {},
   "source": [
    "# Solution"
   ]
  },
  {
   "cell_type": "code",
   "execution_count": 218,
   "id": "55c14184",
   "metadata": {
    "scrolled": false
   },
   "outputs": [
    {
     "name": "stdout",
     "output_type": "stream",
     "text": [
      "6:10 PM\n",
      "2:02 PM, Monday\n",
      "12:03 PM\n",
      "1:40 AM (next day)\n",
      "12:03 AM, Thursday (2 days later)\n",
      "7:42 AM (9 days later)\n"
     ]
    },
    {
     "data": {
      "text/plain": [
       "'7:42 AM (9 days later)'"
      ]
     },
     "execution_count": 218,
     "metadata": {},
     "output_type": "execute_result"
    }
   ],
   "source": [
    "add_time(\"3:00 PM\", \"3:10\")\n",
    "# Returns: 6:10 PM\n",
    "\n",
    "add_time(\"11:30 AM\", \"2:32\", \"Monday\")\n",
    "# Returns: 2:02 PM, Monday\n",
    "\n",
    "add_time(\"11:43 AM\", \"00:20\")\n",
    "# Returns: 12:03 PM\n",
    "\n",
    "add_time(\"10:10 PM\", \"3:30\")\n",
    "# Returns: 1:40 AM (next day)\n",
    "\n",
    "add_time(\"11:43 PM\", \"24:20\", \"tueSday\")\n",
    "# Returns: 12:03 AM, Thursday (2 days later)\n",
    "\n",
    "add_time(\"6:30 PM\", \"205:12\")\n"
   ]
  },
  {
   "cell_type": "code",
   "execution_count": 219,
   "id": "390b09aa",
   "metadata": {},
   "outputs": [],
   "source": [
    "def add_time(start, duration,day=None):\n",
    "    \n",
    "    start_hour,start_min = start.split(\" \")[0].split(\":\")\n",
    "    extra_hour,extra_min = duration.split(\" \")[0].split(\":\")\n",
    "    am_pm_now = start.split(\" \")[1]\n",
    "    am_pm = ('PM','AM') \n",
    "    extra_info = \"\"\n",
    "    day_info = \"\"\n",
    "    \n",
    "    minutes = int(start_min) + int(extra_min)\n",
    "    hours = int(start_hour) + int(extra_hour)\n",
    "    \n",
    "    \n",
    "    new_time=\"\"\n",
    "    \n",
    "    plus_hour,minutes=divmod(minutes,60)\n",
    "    if(minutes < 10):\n",
    "        minutes = f\"0{minutes}\"\n",
    "    \n",
    "    cycles,hours=divmod(hours+plus_hour,12)\n",
    "    if(hours == 0):\n",
    "        hours = 12\n",
    "    \n",
    "    period = abs(am_pm.index(am_pm_now)-(cycles % 2))\n",
    "    days = (period + cycles) // 2\n",
    "    \n",
    "    if days == 1:\n",
    "        extra_info = \" (next day)\"\n",
    "    elif days > 1:\n",
    "        extra_info = f\" ({days} days later)\"\n",
    "    \n",
    "    if day != None:\n",
    "        week = ('Sunday','Monday','Tuesday','Wednesday','Thursday','Friday','Saturday')\n",
    "        now_in = (week.index(day.capitalize())+days) % 7\n",
    "        day_info = f\", {week[now_in]}\"\n",
    "        \n",
    "    \n",
    "\n",
    "        \n",
    "    \n",
    "    new_time += str(hours)+\":\"+str(minutes)+\" \"+am_pm[period]+day_info+extra_info\n",
    "    return new_time"
   ]
  }
 ],
 "metadata": {
  "kernelspec": {
   "display_name": "Python 3 (ipykernel)",
   "language": "python",
   "name": "python3"
  },
  "language_info": {
   "codemirror_mode": {
    "name": "ipython",
    "version": 3
   },
   "file_extension": ".py",
   "mimetype": "text/x-python",
   "name": "python",
   "nbconvert_exporter": "python",
   "pygments_lexer": "ipython3",
   "version": "3.9.1"
  }
 },
 "nbformat": 4,
 "nbformat_minor": 5
}
